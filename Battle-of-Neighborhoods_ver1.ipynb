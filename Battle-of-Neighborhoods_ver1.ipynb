{
 "cells": [
  {
   "cell_type": "markdown",
   "metadata": {},
   "source": [
    "# The Battle of Neighborhoods - Canberra, ACT, Australia & Melbourne, VIC, Australia\n",
    "\n",
    "Table of contents\n",
    "•\tIntroduction: Business Problem\n",
    "•\tData Collection\n",
    "•\tMethodology\n",
    "\n",
    "## Introduction: Business Problem \n",
    "\n",
    "This project will look at opportunity for openning a asian resturant close to the Canberra city centre.\n",
    "\n",
    "As a future business owner, potential investor looking for an opportunity to open a Asian resturant close to city centre in cenberra and close to city attraction.\n",
    "\n",
    "# Data Collection \n",
    "\n",
    "In this project, I will be using \n",
    "1- https://www.latlong.net/category/cities-14-15.html \n",
    "2- https://Data.gov.au \n",
    "    \n",
    "    to collect the data for Australian City.\n",
    "    \n",
    "Note: the data available free of changed and available to public.\n",
    "\n",
    "The data collected contains the locations and their geographic coordinates.\n",
    "\n",
    "\n",
    "Methodology ¶\n",
    "\n",
    "The data collected for the cities contains the locations and their geographic coordinates.\n",
    "Based on the open data available on the web, I will focus on the most populated city. Data from https://data.gov.au and https://www.latlong.net/category/cities-14-15.html websites the National Statistics Office website.\n",
    "Once I have the location details, I still require data for restaurants. In order to retrieve this information, I am going to use Foursquare API to retrieve location based restaurants in Canberra. By using the Folium map library in Python, I will be able to visually display the locations.\n",
    "And finally, by using K-Means clustering algotritm, I will be grouping the data into 5 clusters and analyse where the majority of these restaurants are located.\n",
    "\n",
    "\n",
    "\n",
    "\n",
    "\n"
   ]
  }
 ],
 "metadata": {
  "kernelspec": {
   "display_name": "Python 3",
   "language": "python",
   "name": "python3"
  },
  "language_info": {
   "codemirror_mode": {
    "name": "ipython",
    "version": 3
   },
   "file_extension": ".py",
   "mimetype": "text/x-python",
   "name": "python",
   "nbconvert_exporter": "python",
   "pygments_lexer": "ipython3",
   "version": "3.7.4"
  }
 },
 "nbformat": 4,
 "nbformat_minor": 2
}
