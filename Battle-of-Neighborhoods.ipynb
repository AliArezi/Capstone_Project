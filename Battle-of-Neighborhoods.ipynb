{
 "cells": [
  {
   "cell_type": "markdown",
   "metadata": {},
   "source": [
    "# The Battle of Neighborhoods - Canberra, ACT, Australia & Melbourne, VIC, Australia\n",
    "\n",
    "Table of contents\n",
    "•\tIntroduction: Business Problem\n",
    "•\tData Collection\n",
    "•\tMethodology\n",
    "\n",
    "## Introduction: Business Problem \n",
    "\n",
    "As a traveller I would like to know: \n",
    "\"What types of restaurants are available in Melbourne and Canberra?\"\n",
    "Food is one of the most topic for traveler. I would like to investigate whether there is a variety of restaurants available in the 2 cities.\n",
    "\n",
    "# Data Collection \n",
    "\n",
    "In this project, I will be using \n",
    "1- https://www.latlong.net/category/cities-14-15.html \n",
    "2- https://Data.gov.au \n",
    "    \n",
    "    to collect the data for Australian Cities.\n",
    "Note: the data available free of changed and available to public.\n",
    "\n",
    "The data collected contains the locations and their geographic coordinates.\n",
    "\n"
   ]
  }
 ],
 "metadata": {
  "kernelspec": {
   "display_name": "Python 3",
   "language": "python",
   "name": "python3"
  },
  "language_info": {
   "codemirror_mode": {
    "name": "ipython",
    "version": 3
   },
   "file_extension": ".py",
   "mimetype": "text/x-python",
   "name": "python",
   "nbconvert_exporter": "python",
   "pygments_lexer": "ipython3",
   "version": "3.7.4"
  }
 },
 "nbformat": 4,
 "nbformat_minor": 2
}
